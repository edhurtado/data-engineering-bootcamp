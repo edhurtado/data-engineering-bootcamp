{
  "nbformat": 4,
  "nbformat_minor": 0,
  "metadata": {
    "colab": {
      "name": "Wizeline Data Engineering Bootcamp.ipynb",
      "provenance": [],
      "collapsed_sections": [
        "GtNRRM8tQ3ef",
        "TQVQljYvG1A9",
        "t3lpj5XKJVGf",
        "TGSU5u89J6IV",
        "ECzyTBk_Kfjl"
      ],
      "authorship_tag": "ABX9TyPTm/jUrdnFjfBF4LwDKldC",
      "include_colab_link": true
    },
    "kernelspec": {
      "name": "python3",
      "display_name": "Python 3"
    },
    "language_info": {
      "name": "python"
    }
  },
  "cells": [
    {
      "cell_type": "markdown",
      "metadata": {
        "id": "view-in-github",
        "colab_type": "text"
      },
      "source": [
        "<a href=\"https://colab.research.google.com/github/edhurtado/data-engineering-bootcamp/blob/main/Wizeline_Data_Engineering_Bootcamp.ipynb\" target=\"_parent\"><img src=\"https://colab.research.google.com/assets/colab-badge.svg\" alt=\"Open In Colab\"/></a>"
      ]
    },
    {
      "cell_type": "markdown",
      "metadata": {
        "id": "GtNRRM8tQ3ef"
      },
      "source": [
        "#Installing Libraries"
      ]
    },
    {
      "cell_type": "code",
      "metadata": {
        "colab": {
          "base_uri": "https://localhost:8080/",
          "height": 0
        },
        "id": "uKgJbCvwQ35l",
        "outputId": "004adf2b-4b49-4cf2-f964-07c5e56de3e3"
      },
      "source": [
        "!pip install \"dask[complete]\""
      ],
      "execution_count": 11,
      "outputs": [
        {
          "output_type": "stream",
          "name": "stdout",
          "text": [
            "Requirement already satisfied: dask[complete] in /usr/local/lib/python3.7/dist-packages (2.12.0)\n",
            "Collecting fsspec>=0.6.0\n",
            "  Downloading fsspec-2021.10.0-py3-none-any.whl (125 kB)\n",
            "\u001b[K     |████████████████████████████████| 125 kB 34.5 MB/s \n",
            "\u001b[?25hCollecting partd>=0.3.10\n",
            "  Downloading partd-1.2.0-py3-none-any.whl (19 kB)\n",
            "Requirement already satisfied: bokeh>=1.0.0 in /usr/local/lib/python3.7/dist-packages (from dask[complete]) (2.3.3)\n",
            "Requirement already satisfied: PyYaml in /usr/local/lib/python3.7/dist-packages (from dask[complete]) (3.13)\n",
            "Requirement already satisfied: pandas>=0.23.0 in /usr/local/lib/python3.7/dist-packages (from dask[complete]) (1.1.5)\n",
            "Requirement already satisfied: toolz>=0.7.3 in /usr/local/lib/python3.7/dist-packages (from dask[complete]) (0.11.1)\n",
            "Requirement already satisfied: numpy>=1.13.0 in /usr/local/lib/python3.7/dist-packages (from dask[complete]) (1.19.5)\n",
            "Requirement already satisfied: cloudpickle>=0.2.1 in /usr/local/lib/python3.7/dist-packages (from dask[complete]) (1.3.0)\n",
            "Collecting distributed>=2.0\n",
            "  Downloading distributed-2021.9.1-py3-none-any.whl (786 kB)\n",
            "\u001b[K     |████████████████████████████████| 786 kB 60.3 MB/s \n",
            "\u001b[?25hRequirement already satisfied: packaging>=16.8 in /usr/local/lib/python3.7/dist-packages (from bokeh>=1.0.0->dask[complete]) (21.0)\n",
            "Requirement already satisfied: Jinja2>=2.9 in /usr/local/lib/python3.7/dist-packages (from bokeh>=1.0.0->dask[complete]) (2.11.3)\n",
            "Requirement already satisfied: tornado>=5.1 in /usr/local/lib/python3.7/dist-packages (from bokeh>=1.0.0->dask[complete]) (5.1.1)\n",
            "Requirement already satisfied: pillow>=7.1.0 in /usr/local/lib/python3.7/dist-packages (from bokeh>=1.0.0->dask[complete]) (7.1.2)\n",
            "Requirement already satisfied: typing-extensions>=3.7.4 in /usr/local/lib/python3.7/dist-packages (from bokeh>=1.0.0->dask[complete]) (3.7.4.3)\n",
            "Requirement already satisfied: python-dateutil>=2.1 in /usr/local/lib/python3.7/dist-packages (from bokeh>=1.0.0->dask[complete]) (2.8.2)\n",
            "Requirement already satisfied: sortedcontainers!=2.0.0,!=2.0.1 in /usr/local/lib/python3.7/dist-packages (from distributed>=2.0->dask[complete]) (2.4.0)\n",
            "Requirement already satisfied: setuptools in /usr/local/lib/python3.7/dist-packages (from distributed>=2.0->dask[complete]) (57.4.0)\n",
            "Collecting cloudpickle>=0.2.1\n",
            "  Downloading cloudpickle-2.0.0-py3-none-any.whl (25 kB)\n",
            "Requirement already satisfied: psutil>=5.0 in /usr/local/lib/python3.7/dist-packages (from distributed>=2.0->dask[complete]) (5.4.8)\n",
            "Requirement already satisfied: click>=6.6 in /usr/local/lib/python3.7/dist-packages (from distributed>=2.0->dask[complete]) (7.1.2)\n",
            "Requirement already satisfied: msgpack>=0.6.0 in /usr/local/lib/python3.7/dist-packages (from distributed>=2.0->dask[complete]) (1.0.2)\n",
            "Requirement already satisfied: zict>=0.1.3 in /usr/local/lib/python3.7/dist-packages (from distributed>=2.0->dask[complete]) (2.0.0)\n",
            "Collecting distributed>=2.0\n",
            "  Downloading distributed-2021.9.0-py3-none-any.whl (779 kB)\n",
            "\u001b[K     |████████████████████████████████| 779 kB 63.8 MB/s \n",
            "\u001b[?25h  Downloading distributed-2021.8.1-py3-none-any.whl (778 kB)\n",
            "\u001b[K     |████████████████████████████████| 778 kB 53.1 MB/s \n",
            "\u001b[?25h  Downloading distributed-2021.8.0-py3-none-any.whl (776 kB)\n",
            "\u001b[K     |████████████████████████████████| 776 kB 71.6 MB/s \n",
            "\u001b[?25h  Downloading distributed-2021.7.2-py3-none-any.whl (769 kB)\n",
            "\u001b[K     |████████████████████████████████| 769 kB 56.8 MB/s \n",
            "\u001b[?25h  Downloading distributed-2021.7.1-py3-none-any.whl (766 kB)\n",
            "\u001b[K     |████████████████████████████████| 766 kB 68.5 MB/s \n",
            "\u001b[?25h  Downloading distributed-2021.7.0-py3-none-any.whl (1.0 MB)\n",
            "\u001b[K     |████████████████████████████████| 1.0 MB 22.7 MB/s \n",
            "\u001b[?25h  Downloading distributed-2021.6.2-py3-none-any.whl (722 kB)\n",
            "\u001b[K     |████████████████████████████████| 722 kB 72.8 MB/s \n",
            "\u001b[?25h  Downloading distributed-2021.6.1-py3-none-any.whl (722 kB)\n",
            "\u001b[K     |████████████████████████████████| 722 kB 73.2 MB/s \n",
            "\u001b[?25h  Downloading distributed-2021.6.0-py3-none-any.whl (715 kB)\n",
            "\u001b[K     |████████████████████████████████| 715 kB 74.4 MB/s \n",
            "\u001b[?25h  Downloading distributed-2021.5.1-py3-none-any.whl (705 kB)\n",
            "\u001b[K     |████████████████████████████████| 705 kB 58.3 MB/s \n",
            "\u001b[?25h  Downloading distributed-2021.5.0-py3-none-any.whl (699 kB)\n",
            "\u001b[K     |████████████████████████████████| 699 kB 58.0 MB/s \n",
            "\u001b[?25hRequirement already satisfied: tblib>=1.6.0 in /usr/local/lib/python3.7/dist-packages (from distributed>=2.0->dask[complete]) (1.7.0)\n",
            "  Downloading distributed-2021.4.1-py3-none-any.whl (696 kB)\n",
            "\u001b[K     |████████████████████████████████| 696 kB 54.1 MB/s \n",
            "\u001b[?25h  Downloading distributed-2021.4.0-py3-none-any.whl (684 kB)\n",
            "\u001b[K     |████████████████████████████████| 684 kB 45.3 MB/s \n",
            "\u001b[?25h  Downloading distributed-2021.3.1-py3-none-any.whl (679 kB)\n",
            "\u001b[K     |████████████████████████████████| 679 kB 44.2 MB/s \n",
            "\u001b[?25h  Downloading distributed-2021.3.0-py3-none-any.whl (675 kB)\n",
            "\u001b[K     |████████████████████████████████| 675 kB 58.3 MB/s \n",
            "\u001b[?25h  Downloading distributed-2021.2.0-py3-none-any.whl (675 kB)\n",
            "\u001b[K     |████████████████████████████████| 675 kB 52.4 MB/s \n",
            "\u001b[?25h  Downloading distributed-2021.1.1-py3-none-any.whl (672 kB)\n",
            "\u001b[K     |████████████████████████████████| 672 kB 50.4 MB/s \n",
            "\u001b[?25h  Downloading distributed-2021.1.0-py3-none-any.whl (671 kB)\n",
            "\u001b[K     |████████████████████████████████| 671 kB 74.5 MB/s \n",
            "\u001b[?25h  Downloading distributed-2020.12.0-py3-none-any.whl (669 kB)\n",
            "\u001b[K     |████████████████████████████████| 669 kB 55.9 MB/s \n",
            "\u001b[?25h  Downloading distributed-2.30.1-py3-none-any.whl (656 kB)\n",
            "\u001b[K     |████████████████████████████████| 656 kB 72.8 MB/s \n",
            "\u001b[?25hRequirement already satisfied: MarkupSafe>=0.23 in /usr/local/lib/python3.7/dist-packages (from Jinja2>=2.9->bokeh>=1.0.0->dask[complete]) (2.0.1)\n",
            "Requirement already satisfied: pyparsing>=2.0.2 in /usr/local/lib/python3.7/dist-packages (from packaging>=16.8->bokeh>=1.0.0->dask[complete]) (2.4.7)\n",
            "Requirement already satisfied: pytz>=2017.2 in /usr/local/lib/python3.7/dist-packages (from pandas>=0.23.0->dask[complete]) (2018.9)\n",
            "Collecting locket\n",
            "  Downloading locket-0.2.1-py2.py3-none-any.whl (4.1 kB)\n",
            "Requirement already satisfied: six>=1.5 in /usr/local/lib/python3.7/dist-packages (from python-dateutil>=2.1->bokeh>=1.0.0->dask[complete]) (1.15.0)\n",
            "Requirement already satisfied: heapdict in /usr/local/lib/python3.7/dist-packages (from zict>=0.1.3->distributed>=2.0->dask[complete]) (1.0.1)\n",
            "Installing collected packages: locket, cloudpickle, partd, fsspec, distributed\n",
            "  Attempting uninstall: cloudpickle\n",
            "    Found existing installation: cloudpickle 1.3.0\n",
            "    Uninstalling cloudpickle-1.3.0:\n",
            "      Successfully uninstalled cloudpickle-1.3.0\n",
            "  Attempting uninstall: distributed\n",
            "    Found existing installation: distributed 1.25.3\n",
            "    Uninstalling distributed-1.25.3:\n",
            "      Successfully uninstalled distributed-1.25.3\n",
            "\u001b[31mERROR: pip's dependency resolver does not currently take into account all the packages that are installed. This behaviour is the source of the following dependency conflicts.\n",
            "gym 0.17.3 requires cloudpickle<1.7.0,>=1.2.0, but you have cloudpickle 2.0.0 which is incompatible.\u001b[0m\n",
            "Successfully installed cloudpickle-2.0.0 distributed-2.30.1 fsspec-2021.10.0 locket-0.2.1 partd-1.2.0\n"
          ]
        },
        {
          "output_type": "display_data",
          "data": {
            "application/vnd.colab-display-data+json": {
              "pip_warning": {
                "packages": [
                  "cloudpickle"
                ]
              }
            }
          },
          "metadata": {}
        }
      ]
    },
    {
      "cell_type": "markdown",
      "metadata": {
        "id": "TQVQljYvG1A9"
      },
      "source": [
        "#Importing Libraries"
      ]
    },
    {
      "cell_type": "code",
      "metadata": {
        "id": "IC0y_7qvGxOw"
      },
      "source": [
        "from google.colab import drive\n",
        "from google.colab import files\n",
        "import pandas as pd\n",
        "import dask\n",
        "import dask.dataframe as dd\n",
        "import dask.array as da\n",
        "import dask.bag as db\n",
        "import numpy as np\n",
        "from scipy import stats\n",
        "from sklearn import preprocessing\n",
        "import seaborn as sns\n",
        "#!apt-get install rar"
      ],
      "execution_count": 265,
      "outputs": []
    },
    {
      "cell_type": "markdown",
      "metadata": {
        "id": "qG_MdIlLItKT"
      },
      "source": [
        "#Importing Data"
      ]
    },
    {
      "cell_type": "markdown",
      "metadata": {
        "id": "t3lpj5XKJVGf"
      },
      "source": [
        "##Download Giant File"
      ]
    },
    {
      "cell_type": "code",
      "metadata": {
        "colab": {
          "base_uri": "https://localhost:8080/"
        },
        "id": "H3HudbBQIsyl",
        "outputId": "e2355bbb-05ca-48fb-9aa9-57a8a3e021ee"
      },
      "source": [
        "#File URL ---> https://drive.google.com/file/d/1crFR4yrS_6DV3_Fh-HrhANJg1-qlyE-O/view\n",
        "#File ID Google Drive ---> 1crFR4yrS_6DV3_Fh-HrhANJg1-qlyE-O\n",
        "ID = \"1crFR4yrS_6DV3_Fh-HrhANJg1-qlyE-O\"\n",
        "\n",
        "#Downloading Data\n",
        "!gdown --id $ID"
      ],
      "execution_count": 3,
      "outputs": [
        {
          "output_type": "stream",
          "name": "stdout",
          "text": [
            "Downloading...\n",
            "From: https://drive.google.com/uc?id=1crFR4yrS_6DV3_Fh-HrhANJg1-qlyE-O\n",
            "To: /content/profeco.zip\n",
            "100% 1.61G/1.61G [00:11<00:00, 137MB/s]\n"
          ]
        }
      ]
    },
    {
      "cell_type": "markdown",
      "metadata": {
        "id": "TGSU5u89J6IV"
      },
      "source": [
        "##Unzipping File"
      ]
    },
    {
      "cell_type": "code",
      "metadata": {
        "colab": {
          "base_uri": "https://localhost:8080/"
        },
        "id": "5Gl6b9kbJUUf",
        "outputId": "bfeb144b-f898-4c3a-8532-cdcbcf5ae7d7"
      },
      "source": [
        "!unzip \"profeco.zip\" -d \"/content\""
      ],
      "execution_count": 6,
      "outputs": [
        {
          "output_type": "stream",
          "name": "stdout",
          "text": [
            "Archive:  profeco.zip\n",
            "  inflating: /content/all_data.csv   \n"
          ]
        }
      ]
    },
    {
      "cell_type": "markdown",
      "metadata": {
        "id": "ECzyTBk_Kfjl"
      },
      "source": [
        "##Using Dask to import Data"
      ]
    },
    {
      "cell_type": "code",
      "metadata": {
        "id": "drLLRxkBLws3"
      },
      "source": [
        "Data = dd.read_csv(\"all_data.csv\",blocksize=100e6,dtype='object')"
      ],
      "execution_count": 21,
      "outputs": []
    },
    {
      "cell_type": "code",
      "metadata": {
        "id": "9A1kCaQBSn6x"
      },
      "source": [
        "Size = Data.size.compute()"
      ],
      "execution_count": 23,
      "outputs": []
    },
    {
      "cell_type": "code",
      "metadata": {
        "colab": {
          "base_uri": "https://localhost:8080/"
        },
        "id": "-3SHq5PUY3tT",
        "outputId": "d15254dc-98c3-4d44-9718-a7fea2e8e1e3"
      },
      "source": [
        "print(\"The size of the data is %d\" %(Size))"
      ],
      "execution_count": 27,
      "outputs": [
        {
          "output_type": "stream",
          "name": "stdout",
          "text": [
            "The size of the data is 937960725\n"
          ]
        }
      ]
    },
    {
      "cell_type": "code",
      "metadata": {
        "colab": {
          "base_uri": "https://localhost:8080/",
          "height": 521
        },
        "id": "wjZr9c0XL3gR",
        "outputId": "747a78a5-4fb3-4e11-e2b8-c44622cb9a27"
      },
      "source": [
        "Data.head().compute()"
      ],
      "execution_count": 14,
      "outputs": [
        {
          "output_type": "execute_result",
          "data": {
            "text/html": [
              "<div>\n",
              "<style scoped>\n",
              "    .dataframe tbody tr th:only-of-type {\n",
              "        vertical-align: middle;\n",
              "    }\n",
              "\n",
              "    .dataframe tbody tr th {\n",
              "        vertical-align: top;\n",
              "    }\n",
              "\n",
              "    .dataframe thead th {\n",
              "        text-align: right;\n",
              "    }\n",
              "</style>\n",
              "<table border=\"1\" class=\"dataframe\">\n",
              "  <thead>\n",
              "    <tr style=\"text-align: right;\">\n",
              "      <th></th>\n",
              "      <th>producto</th>\n",
              "      <th>presentacion</th>\n",
              "      <th>marca</th>\n",
              "      <th>categoria</th>\n",
              "      <th>catalogo</th>\n",
              "      <th>precio</th>\n",
              "      <th>fechaRegistro</th>\n",
              "      <th>cadenaComercial</th>\n",
              "      <th>giro</th>\n",
              "      <th>nombreComercial</th>\n",
              "      <th>direccion</th>\n",
              "      <th>estado</th>\n",
              "      <th>municipio</th>\n",
              "      <th>latitud</th>\n",
              "      <th>longitud</th>\n",
              "    </tr>\n",
              "  </thead>\n",
              "  <tbody>\n",
              "    <tr>\n",
              "      <th>0</th>\n",
              "      <td>CUADERNO FORMA ITALIANA</td>\n",
              "      <td>96 HOJAS PASTA DURA. CUADRICULA CHICA</td>\n",
              "      <td>ESTRELLA</td>\n",
              "      <td>MATERIAL ESCOLAR</td>\n",
              "      <td>UTILES ESCOLARES</td>\n",
              "      <td>25.9</td>\n",
              "      <td>2011-05-18 00:00:00.000</td>\n",
              "      <td>ABASTECEDORA LUMEN</td>\n",
              "      <td>PAPELERIAS</td>\n",
              "      <td>ABASTECEDORA LUMEN SUCURSAL VILLA COAPA</td>\n",
              "      <td>CANNES No. 6 ESQ. CANAL DE MIRAMONTES</td>\n",
              "      <td>DISTRITO FEDERAL</td>\n",
              "      <td>TLALPAN</td>\n",
              "      <td>19.29699</td>\n",
              "      <td>-99.125417</td>\n",
              "    </tr>\n",
              "    <tr>\n",
              "      <th>1</th>\n",
              "      <td>CRAYONES</td>\n",
              "      <td>CAJA 12 CERAS. JUMBO. C.B. 201423</td>\n",
              "      <td>CRAYOLA</td>\n",
              "      <td>MATERIAL ESCOLAR</td>\n",
              "      <td>UTILES ESCOLARES</td>\n",
              "      <td>27.5</td>\n",
              "      <td>2011-05-18 00:00:00.000</td>\n",
              "      <td>ABASTECEDORA LUMEN</td>\n",
              "      <td>PAPELERIAS</td>\n",
              "      <td>ABASTECEDORA LUMEN SUCURSAL VILLA COAPA</td>\n",
              "      <td>CANNES No. 6 ESQ. CANAL DE MIRAMONTES</td>\n",
              "      <td>DISTRITO FEDERAL</td>\n",
              "      <td>TLALPAN</td>\n",
              "      <td>19.29699</td>\n",
              "      <td>-99.125417</td>\n",
              "    </tr>\n",
              "    <tr>\n",
              "      <th>2</th>\n",
              "      <td>CRAYONES</td>\n",
              "      <td>CAJA 12 CERAS. TAMANO REGULAR C.B. 201034</td>\n",
              "      <td>CRAYOLA</td>\n",
              "      <td>MATERIAL ESCOLAR</td>\n",
              "      <td>UTILES ESCOLARES</td>\n",
              "      <td>13.9</td>\n",
              "      <td>2011-05-18 00:00:00.000</td>\n",
              "      <td>ABASTECEDORA LUMEN</td>\n",
              "      <td>PAPELERIAS</td>\n",
              "      <td>ABASTECEDORA LUMEN SUCURSAL VILLA COAPA</td>\n",
              "      <td>CANNES No. 6 ESQ. CANAL DE MIRAMONTES</td>\n",
              "      <td>DISTRITO FEDERAL</td>\n",
              "      <td>TLALPAN</td>\n",
              "      <td>19.29699</td>\n",
              "      <td>-99.125417</td>\n",
              "    </tr>\n",
              "    <tr>\n",
              "      <th>3</th>\n",
              "      <td>COLORES DE MADERA</td>\n",
              "      <td>CAJA 12 PIEZAS LARGO. TRIANGULAR. C.B. 640646</td>\n",
              "      <td>PINCELIN</td>\n",
              "      <td>MATERIAL ESCOLAR</td>\n",
              "      <td>UTILES ESCOLARES</td>\n",
              "      <td>46.9</td>\n",
              "      <td>2011-05-18 00:00:00.000</td>\n",
              "      <td>ABASTECEDORA LUMEN</td>\n",
              "      <td>PAPELERIAS</td>\n",
              "      <td>ABASTECEDORA LUMEN SUCURSAL VILLA COAPA</td>\n",
              "      <td>CANNES No. 6 ESQ. CANAL DE MIRAMONTES</td>\n",
              "      <td>DISTRITO FEDERAL</td>\n",
              "      <td>TLALPAN</td>\n",
              "      <td>19.29699</td>\n",
              "      <td>-99.125417</td>\n",
              "    </tr>\n",
              "    <tr>\n",
              "      <th>4</th>\n",
              "      <td>COLOR LARGO</td>\n",
              "      <td>CAJA 36 PIEZAS. CON SACAPUNTAS. 68-4036</td>\n",
              "      <td>CRAYOLA</td>\n",
              "      <td>MATERIAL ESCOLAR</td>\n",
              "      <td>UTILES ESCOLARES</td>\n",
              "      <td>115.0</td>\n",
              "      <td>2011-05-18 00:00:00.000</td>\n",
              "      <td>ABASTECEDORA LUMEN</td>\n",
              "      <td>PAPELERIAS</td>\n",
              "      <td>ABASTECEDORA LUMEN SUCURSAL VILLA COAPA</td>\n",
              "      <td>CANNES No. 6 ESQ. CANAL DE MIRAMONTES</td>\n",
              "      <td>DISTRITO FEDERAL</td>\n",
              "      <td>TLALPAN</td>\n",
              "      <td>19.29699</td>\n",
              "      <td>-99.125417</td>\n",
              "    </tr>\n",
              "  </tbody>\n",
              "</table>\n",
              "</div>"
            ],
            "text/plain": [
              "                  producto  ...   longitud\n",
              "0  CUADERNO FORMA ITALIANA  ... -99.125417\n",
              "1                 CRAYONES  ... -99.125417\n",
              "2                 CRAYONES  ... -99.125417\n",
              "3        COLORES DE MADERA  ... -99.125417\n",
              "4              COLOR LARGO  ... -99.125417\n",
              "\n",
              "[5 rows x 15 columns]"
            ]
          },
          "metadata": {},
          "execution_count": 14
        }
      ]
    },
    {
      "cell_type": "markdown",
      "metadata": {
        "id": "ZRHcAPsCOYMj"
      },
      "source": [
        "#Q1: How many commercial chains are monitored, and therefore, included in this database?"
      ]
    },
    {
      "cell_type": "code",
      "metadata": {
        "id": "ORcyw6qaOZoE"
      },
      "source": [
        "#Getting al unique values\n",
        "comChains = Data[\"cadenaComercial\"].unique().compute()"
      ],
      "execution_count": 28,
      "outputs": []
    },
    {
      "cell_type": "code",
      "metadata": {
        "colab": {
          "base_uri": "https://localhost:8080/"
        },
        "id": "Ksh_JmwNVjVZ",
        "outputId": "e302bed6-de53-4914-eadc-6410a4501388"
      },
      "source": [
        "print(\"There are up to %d commercial chains monitored by Profeco\" % (comChains.count()))"
      ],
      "execution_count": 275,
      "outputs": [
        {
          "output_type": "stream",
          "name": "stdout",
          "text": [
            "There are up to 705 commercial chains monitored by Profeco\n"
          ]
        }
      ]
    },
    {
      "cell_type": "code",
      "metadata": {
        "colab": {
          "base_uri": "https://localhost:8080/"
        },
        "id": "uqAbem86sPKC",
        "outputId": "0951480b-e7c8-4439-aaf7-b4dc13d1d405"
      },
      "source": [
        "comChains"
      ],
      "execution_count": 274,
      "outputs": [
        {
          "output_type": "execute_result",
          "data": {
            "text/plain": [
              "0                            ABASTECEDORA LUMEN\n",
              "1                            COMERCIAL MEXICANA\n",
              "2                                  I.S.S.S.T.E.\n",
              "3                                      WAL-MART\n",
              "4                    TORTILLERIAS TRADICIONALES\n",
              "                         ...                   \n",
              "701    MERCADO  GENERAL EMILIANO ZAPATA SALAZAR\n",
              "702                       PESCADERIA EL MALECON\n",
              "703                        BOTICA KENT TLAXCALA\n",
              "704               MUEBLERIA ALMACENES DEL NORTE\n",
              "705                     MINISUPER MERCADO TOGUZ\n",
              "Name: cadenaComercial, Length: 706, dtype: object"
            ]
          },
          "metadata": {},
          "execution_count": 274
        }
      ]
    },
    {
      "cell_type": "markdown",
      "metadata": {
        "id": "Jc91TKe5aImT"
      },
      "source": [
        "#Q2: What are the top 10 monitored products by State?"
      ]
    },
    {
      "cell_type": "code",
      "metadata": {
        "id": "uSOSA0MBcc3o"
      },
      "source": [
        "groupedData = Data.groupby(by=[\"estado\",\"producto\"]).count().compute()"
      ],
      "execution_count": 48,
      "outputs": []
    },
    {
      "cell_type": "code",
      "metadata": {
        "colab": {
          "base_uri": "https://localhost:8080/",
          "height": 455
        },
        "id": "MY3mxc-Kbmsu",
        "outputId": "9ea52aaf-4366-473a-a809-cf6b934148bd"
      },
      "source": [
        "groupedData.reset_index()[[\"estado\",\"producto\",\"marca\"]].groupby(by=[\"estado\"]).apply(lambda x: x.nlargest(10,['marca']))[[\"producto\",\"marca\"]]\n"
      ],
      "execution_count": 88,
      "outputs": [
        {
          "output_type": "execute_result",
          "data": {
            "text/html": [
              "<div>\n",
              "<style scoped>\n",
              "    .dataframe tbody tr th:only-of-type {\n",
              "        vertical-align: middle;\n",
              "    }\n",
              "\n",
              "    .dataframe tbody tr th {\n",
              "        vertical-align: top;\n",
              "    }\n",
              "\n",
              "    .dataframe thead th {\n",
              "        text-align: right;\n",
              "    }\n",
              "</style>\n",
              "<table border=\"1\" class=\"dataframe\">\n",
              "  <thead>\n",
              "    <tr style=\"text-align: right;\">\n",
              "      <th></th>\n",
              "      <th></th>\n",
              "      <th>producto</th>\n",
              "      <th>marca</th>\n",
              "    </tr>\n",
              "    <tr>\n",
              "      <th>estado</th>\n",
              "      <th></th>\n",
              "      <th></th>\n",
              "      <th></th>\n",
              "    </tr>\n",
              "  </thead>\n",
              "  <tbody>\n",
              "    <tr>\n",
              "      <th rowspan=\"5\" valign=\"top\">AGUASCALIENTES</th>\n",
              "      <th>210</th>\n",
              "      <td>FUD</td>\n",
              "      <td>12005</td>\n",
              "    </tr>\n",
              "    <tr>\n",
              "      <th>164</th>\n",
              "      <td>DETERGENTE P/ROPA</td>\n",
              "      <td>10188</td>\n",
              "    </tr>\n",
              "    <tr>\n",
              "      <th>277</th>\n",
              "      <td>LECHE ULTRAPASTEURIZADA</td>\n",
              "      <td>9824</td>\n",
              "    </tr>\n",
              "    <tr>\n",
              "      <th>416</th>\n",
              "      <td>SHAMPOO</td>\n",
              "      <td>9654</td>\n",
              "    </tr>\n",
              "    <tr>\n",
              "      <th>388</th>\n",
              "      <td>REFRESCO</td>\n",
              "      <td>9481</td>\n",
              "    </tr>\n",
              "    <tr>\n",
              "      <th>...</th>\n",
              "      <th>...</th>\n",
              "      <td>...</td>\n",
              "      <td>...</td>\n",
              "    </tr>\n",
              "    <tr>\n",
              "      <th rowspan=\"4\" valign=\"top\">ZACATECAS</th>\n",
              "      <th>10709</th>\n",
              "      <td>SHAMPOO</td>\n",
              "      <td>15012</td>\n",
              "    </tr>\n",
              "    <tr>\n",
              "      <th>10398</th>\n",
              "      <td>CHILES EN LATA</td>\n",
              "      <td>14866</td>\n",
              "    </tr>\n",
              "    <tr>\n",
              "      <th>10418</th>\n",
              "      <td>COMPONENTES DE AUDIO</td>\n",
              "      <td>14799</td>\n",
              "    </tr>\n",
              "    <tr>\n",
              "      <th>10679</th>\n",
              "      <td>REFRESCO</td>\n",
              "      <td>13925</td>\n",
              "    </tr>\n",
              "    <tr>\n",
              "      <th>estado</th>\n",
              "      <th>28842</th>\n",
              "      <td>producto</td>\n",
              "      <td>20</td>\n",
              "    </tr>\n",
              "  </tbody>\n",
              "</table>\n",
              "<p>321 rows × 2 columns</p>\n",
              "</div>"
            ],
            "text/plain": [
              "                                     producto  marca\n",
              "estado                                              \n",
              "AGUASCALIENTES 210                        FUD  12005\n",
              "               164          DETERGENTE P/ROPA  10188\n",
              "               277    LECHE ULTRAPASTEURIZADA   9824\n",
              "               416                    SHAMPOO   9654\n",
              "               388                   REFRESCO   9481\n",
              "...                                       ...    ...\n",
              "ZACATECAS      10709                  SHAMPOO  15012\n",
              "               10398           CHILES EN LATA  14866\n",
              "               10418     COMPONENTES DE AUDIO  14799\n",
              "               10679                 REFRESCO  13925\n",
              "estado         28842                 producto     20\n",
              "\n",
              "[321 rows x 2 columns]"
            ]
          },
          "metadata": {},
          "execution_count": 88
        }
      ]
    },
    {
      "cell_type": "markdown",
      "metadata": {
        "id": "Yp-UJzsGaONp"
      },
      "source": [
        "#Q3: Which is the commercial chain with the highest number of monitored products?"
      ]
    },
    {
      "cell_type": "code",
      "metadata": {
        "id": "FGYoUSWDjo3w"
      },
      "source": [
        "comChainProd = Data.groupby(by=[\"cadenaComercial\",\"producto\"]).count().compute()"
      ],
      "execution_count": 94,
      "outputs": []
    },
    {
      "cell_type": "code",
      "metadata": {
        "colab": {
          "base_uri": "https://localhost:8080/"
        },
        "id": "aJuhaR3Qj8fb",
        "outputId": "a66b2c04-59f3-45f3-f690-dc54e110a28c"
      },
      "source": [
        "comChainProd[\"marca\"].nlargest(1)"
      ],
      "execution_count": 147,
      "outputs": [
        {
          "output_type": "execute_result",
          "data": {
            "text/plain": [
              "cadenaComercial             producto        \n",
              "TORTILLERIAS TRADICIONALES  TORTILLA DE MAIZ    206950\n",
              "Name: marca, dtype: int64"
            ]
          },
          "metadata": {},
          "execution_count": 147
        }
      ]
    },
    {
      "cell_type": "code",
      "metadata": {
        "colab": {
          "base_uri": "https://localhost:8080/"
        },
        "id": "cpua5mSYtJrq",
        "outputId": "3dea352b-e73b-4a95-d768-65d21bf72800"
      },
      "source": [
        "comChainProd.reset_index().groupby(\"cadenaComercial\").count().nlargest(1,\"producto\")[\"producto\"]#.values[0]"
      ],
      "execution_count": 146,
      "outputs": [
        {
          "output_type": "execute_result",
          "data": {
            "text/plain": [
              "cadenaComercial\n",
              "SORIANA    1059\n",
              "Name: producto, dtype: int64"
            ]
          },
          "metadata": {},
          "execution_count": 146
        }
      ]
    },
    {
      "cell_type": "code",
      "metadata": {
        "colab": {
          "base_uri": "https://localhost:8080/"
        },
        "id": "A0Heiqyr1ZTZ",
        "outputId": "0f5a7495-7581-49e0-eabb-df03e62fc837"
      },
      "source": [
        "print(\"******---------------------------------------------------------------------------------------------------******\\n\")\n",
        "print(\"The commercial chain with and the product that Profeco has monitored the most is \\n Comercial Chain: %s \\n Product: %s \\n Number of products monitored: %d\" % (comChainProd[\"marca\"].nlargest(1).reset_index()[\"cadenaComercial\"][0],comChainProd[\"marca\"].nlargest(1).reset_index()[\"producto\"][0],comChainProd[\"marca\"].nlargest(1)[0]))\n",
        "print(\"\\n******---------------------------------------------------------------------------------------------------******\\n\")\n",
        "print(\"However, the comercial chain with the highest number of monitored products is:\\n Comercial Chain: %s \\n Number of different products monitored by profeco: %d \" % (comChainProd.reset_index().groupby(\"cadenaComercial\").count().nlargest(1,\"producto\")[\"producto\"].reset_index()[\"cadenaComercial\"][0],comChainProd.reset_index().groupby(\"cadenaComercial\").count().nlargest(1,\"producto\")[\"producto\"].values[0]))\n",
        "print(\"\\n******---------------------------------------------------------------------------------------------------******\\n\")"
      ],
      "execution_count": 145,
      "outputs": [
        {
          "output_type": "stream",
          "name": "stdout",
          "text": [
            "******---------------------------------------------------------------------------------------------------******\n",
            "\n",
            "The commercial chain with and the product that Profeco has monitored the most is \n",
            " Comercial Chain: TORTILLERIAS TRADICIONALES \n",
            " Product: TORTILLA DE MAIZ \n",
            " Number of products monitored: 206950\n",
            "\n",
            "******---------------------------------------------------------------------------------------------------******\n",
            "\n",
            "However, the comercial chain with the highest number of monitored products is:\n",
            " Comercial Chain: SORIANA \n",
            " Number of different products monitored by profeco: 1059 \n",
            "\n",
            "******---------------------------------------------------------------------------------------------------******\n",
            "\n"
          ]
        }
      ]
    },
    {
      "cell_type": "markdown",
      "metadata": {
        "id": "VDUjsSK0aWvB"
      },
      "source": [
        "#Q4: Use the data to find an interesting fact."
      ]
    },
    {
      "cell_type": "code",
      "metadata": {
        "id": "xgU16CvIcFS3"
      },
      "source": [
        "cat = Data[\"categoria\"].unique().compute()"
      ],
      "execution_count": 97,
      "outputs": []
    },
    {
      "cell_type": "code",
      "metadata": {
        "colab": {
          "base_uri": "https://localhost:8080/"
        },
        "id": "GI8c4E8m3jCR",
        "outputId": "52471e1f-e8c5-4950-dfab-567ba1c08606"
      },
      "source": [
        "print(\"All %d registers of the database is distribuited in only %d categories.\\nthat roughly would be %d registers per category\" % (Size, len(cat), Size/len(cat) ))"
      ],
      "execution_count": 156,
      "outputs": [
        {
          "output_type": "stream",
          "name": "stdout",
          "text": [
            "All 937960725 registers of the database is distribuited in only 42 categories.\n",
            "that roughly would be 22332398 registers per category\n"
          ]
        }
      ]
    },
    {
      "cell_type": "code",
      "metadata": {
        "id": "LRgc_bvCslIh"
      },
      "source": [
        "precProd = Data[[\"categoria\",\"producto\",\"precio\"]].groupby(by=[\"categoria\",\"producto\"]).max().compute()"
      ],
      "execution_count": 98,
      "outputs": []
    },
    {
      "cell_type": "code",
      "metadata": {
        "colab": {
          "base_uri": "https://localhost:8080/"
        },
        "id": "PetDTQhJtEOX",
        "outputId": "d35f43b5-7fcb-407c-ef7a-cf86bc8c4cc6"
      },
      "source": [
        "#precProd.reset_index()[\"precio\"].astype(float)\n",
        "print(\"The product which is the most expensive according data is %.2f\" % (max(pd.to_numeric(precProd.reset_index()[\"precio\"],errors='coerce'))))\n"
      ],
      "execution_count": 181,
      "outputs": [
        {
          "output_type": "stream",
          "name": "stdout",
          "text": [
            "The product which is the most expensive according data is 99999.20\n"
          ]
        },
        {
          "output_type": "execute_result",
          "data": {
            "text/plain": [
              "99999.2"
            ]
          },
          "metadata": {},
          "execution_count": 181
        }
      ]
    },
    {
      "cell_type": "code",
      "metadata": {
        "colab": {
          "base_uri": "https://localhost:8080/",
          "height": 356
        },
        "id": "kHKfAosw6Vhj",
        "outputId": "9d3d9215-2a82-488c-d15b-b978ae2e7f64"
      },
      "source": [
        "precProd.reset_index()[\"precio\"].str[0].hist()\n",
        "print(\"As we can see, the first digit of more than 700 products is 9, that's means almost \\nevery comercial chain makes uses of rounded prices marketing strategy, for example\\nthey define a price of 999 instead of 1,000 which is more atractive to customers in terms of marketing\")\n",
        "print(\"\\n This also could be a sign of off sales\")"
      ],
      "execution_count": 190,
      "outputs": [
        {
          "output_type": "stream",
          "name": "stdout",
          "text": [
            "As we can see, the first digit of more than 700 products is 9, that's means almost \n",
            "every comercial chain makes uses of rounded prices marketing strategy, for example\n",
            "they define a price of 999 instead of 1,000 which is more atractive to customers in terms of marketing\n",
            "\n",
            " This also could be a sign of off sales\n"
          ]
        },
        {
          "output_type": "display_data",
          "data": {
            "image/png": "[encoded data removed]",
            "text/plain": [
              "<Figure size 432x288 with 1 Axes>"
            ]
          },
          "metadata": {
            "needs_background": "light"
          }
        }
      ]
    },
    {
      "cell_type": "code",
      "metadata": {
        "colab": {
          "base_uri": "https://localhost:8080/",
          "height": 283
        },
        "id": "wyk3frKI8nuB",
        "outputId": "02fa1aa1-254e-4f4b-f2af-929206bcb63d"
      },
      "source": [
        "#precProd.reset_index()[\"precio\"].mean()\n",
        "prod = precProd.reset_index()\n",
        "prod[\"precioFloat\"] = pd.to_numeric(precProd.reset_index()[\"precio\"],errors='coerce')\n",
        "prod.boxplot(column=\"precioFloat\")\n",
        "\n",
        "print(\"\\n\\nAs we can see our data distribution is centered on MXN$0 (low price products), however there are some \\nproducts that are outliers, their price is too larger than the rest of the products\")"
      ],
      "execution_count": 213,
      "outputs": [
        {
          "output_type": "execute_result",
          "data": {
            "text/plain": [
              "<matplotlib.axes._subplots.AxesSubplot at 0x7f0187ebc950>"
            ]
          },
          "metadata": {},
          "execution_count": 213
        },
        {
          "output_type": "display_data",
          "data": {
            "image/png": "[encoded data removed]",
            "text/plain": [
              "<Figure size 432x288 with 1 Axes>"
            ]
          },
          "metadata": {
            "needs_background": "light"
          }
        }
      ]
    },
    {
      "cell_type": "code",
      "metadata": {
        "colab": {
          "base_uri": "https://localhost:8080/",
          "height": 301
        },
        "id": "0BueEsjn-stU",
        "outputId": "8e342049-5f93-457f-de55-213967e4ea34"
      },
      "source": [
        "prodNoOutlier = prod[np.abs(prod.precioFloat-prod.precioFloat.mean()) <= (1*prod.precioFloat.std())]\n",
        "prodNoOutlier.boxplot(column=\"precioFloat\")\n",
        "print(\"If we filter on 1 standard deviation to avoid outlier we obtain this box-plot, where we can see that \\nmost of data es centered around MXN$250\\n\\n\")"
      ],
      "execution_count": 238,
      "outputs": [
        {
          "output_type": "stream",
          "name": "stdout",
          "text": [
            "If we filter on 1 standard deviation to avoid outlier we obtain this box-plot, where we can see that \n",
            "most of data es centered around MXN$250\n"
          ]
        },
        {
          "output_type": "display_data",
          "data": {
            "image/png": "[encoded data removed]",
            "text/plain": [
              "<Figure size 432x288 with 1 Axes>"
            ]
          },
          "metadata": {
            "needs_background": "light"
          }
        }
      ]
    },
    {
      "cell_type": "code",
      "metadata": {
        "colab": {
          "base_uri": "https://localhost:8080/"
        },
        "id": "J495nv_OBir6",
        "outputId": "4cc096b9-df28-4435-f5e3-f475e9e27694"
      },
      "source": [
        "prod[\"precioFloat\"].mean()\n",
        "prod[\"precioFloat\"].max()\n",
        "prod[\"precioFloat\"].min()\n",
        "prod[\"precioFloat\"].median()\n",
        "prod[\"precioFloat\"].mode()\n",
        "print(\"Analyzing the data's EDA central tendency meassures:\\nMean: %f\\nMedian: %f\\nMode: %f\\nMin: %f\\nMax: %f\"%(prod[\"precioFloat\"].mean(), prod[\"precioFloat\"].median(),prod[\"precioFloat\"].mode(),prod[\"precioFloat\"].min(),prod[\"precioFloat\"].max() ))\n",
        "print(\"We can conclude that:\\n\\t- All our data is centered to MXN$100\\n\\t- It has larger outliers \\n\\t- The data must require an extra processing to produce insights\")\n",
        "#All valid measurements of central tendency are the mean, median, and mode."
      ],
      "execution_count": 252,
      "outputs": [
        {
          "output_type": "stream",
          "name": "stdout",
          "text": [
            "Analyzing the data's EDA central tendency meassures:\n",
            "Mean: 563.365561\n",
            "Median: 99.900000\n",
            "Mode: 99.900000\n",
            "Min: 6.000000\n",
            "Max: 99999.200000\n",
            "We can conclude that:\n",
            "\t- All our data is centered to MXN$100\n",
            "\t- It has larger outliers \n",
            "\t- The data must require an extra processing to produce insights\n"
          ]
        }
      ]
    },
    {
      "cell_type": "code",
      "metadata": {
        "colab": {
          "base_uri": "https://localhost:8080/",
          "height": 301
        },
        "id": "-TGxwDc9Cvch",
        "outputId": "1db0e80a-946b-4d85-f1b9-6d0ed9c4bd2b"
      },
      "source": [
        "prod[\"precioFloat\"].hist()\n",
        "#,np.abs( (prod.precioFloat-prod.precioFloat.mean() )/prod.precioFloat.std()).hist()\n",
        "# = (x – μ) / σ"
      ],
      "execution_count": 272,
      "outputs": [
        {
          "output_type": "execute_result",
          "data": {
            "text/plain": [
              "(<matplotlib.axes._subplots.AxesSubplot at 0x7f01939d60d0>,\n",
              " <matplotlib.axes._subplots.AxesSubplot at 0x7f01939d60d0>)"
            ]
          },
          "metadata": {},
          "execution_count": 272
        },
        {
          "output_type": "display_data",
          "data": {
            "image/png": "[encoded data removed]",
            "text/plain": [
              "<Figure size 432x288 with 1 Axes>"
            ]
          },
          "metadata": {
            "needs_background": "light"
          }
        }
      ]
    },
    {
      "cell_type": "markdown",
      "metadata": {
        "id": "Xyq7jiiHagtQ"
      },
      "source": [
        "#Q5: What are the lessons learned from this exercise?"
      ]
    },
    {
      "cell_type": "markdown",
      "metadata": {
        "id": "-NJ4bub1dbon"
      },
      "source": [
        "For me, this exercise teach me so many things. I'm going to state them: \n",
        "\n",
        "\n",
        "1.   _I don't know how it is possible to finish this task in 3 hrs taking in mind that dataset is up to 20GB_, for this data size it would take all these time only processing and working with\n",
        "2.   Python is a powerfull tool! It has library for almost everything, however for this amount of data (20GB) it would be too difficult to handle it\n",
        "3.   I try to use pure pandas and I also try to work in a local environment but, when I understood the amount of data that is covered by 20GB I got up trying to use my local computer (It doesn't deserve this kind of punishment 😂) and I started to use cloud solutions using the powerful computers of Google.\n",
        "4.   As I've worked with _**SQL**_ querying making some _**OLAP**_, I know this kind of analysis could be achieved easier with querying or at least I could prepare the data a little bit better \n",
        "5.   I'd say that using Python for this kind of analysis (EDA) is not the best way to "
      ]
    },
    {
      "cell_type": "markdown",
      "metadata": {
        "id": "-mHgh3Z7OVmh"
      },
      "source": [
        "#Q6: Can you identify other ways to approach this problem? Explain"
      ]
    },
    {
      "cell_type": "markdown",
      "metadata": {
        "id": "hcq-tKmkqAu-"
      },
      "source": [
        "If I was on my own, I would try to find another way to make this analysis faster or easier.\n",
        "\n",
        "For example, based on my experience, I'd try to upload all this data (through python or any other tool) to a RDBMS and use SQL to modify, prepare, transform and/or analyse such data. I've worked in my job handling million of data with queries and it's quite faster than pandas and Python.\n",
        "\n",
        "Another approach that I'd try to is using Hadoop or Spark to partition data and handling it easier."
      ]
    }
  ]
}